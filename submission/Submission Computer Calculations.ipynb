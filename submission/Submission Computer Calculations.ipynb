{
 "cells": [
  {
   "cell_type": "code",
   "execution_count": 5,
   "metadata": {},
   "outputs": [
    {
     "name": "stdout",
     "output_type": "stream",
     "text": [
      "Version of sympy is: \t1.3\n"
     ]
    }
   ],
   "source": [
    "from sympy import init_printing\n",
    "from sympy.physics.vector import curl, ReferenceFrame\n",
    "from sympy import __version__ as sv\n",
    "print(f'Version of sympy is: \\t{sv}')\n",
    "init_printing() "
   ]
  },
  {
   "cell_type": "markdown",
   "metadata": {},
   "source": [
    "For understanding, let's quote the `sympy` [documentation](https://docs.sympy.org/latest/modules/physics/vector/fields.html).\n",
    ">In sympy.physics.vector, every ReferenceFrame instance is assigned basis vectors corresponding to the 𝑋, 𝑌 and 𝑍 directions. These can be accessed using the attributes named x, y and z respectively. Hence, to define a vector 𝐯 of the form 3𝐢̂ +4𝐣̂ +5𝐤̂  with respect to a given frame 𝐑, you would do\n",
    "\n",
    ">```\n",
    ">from sympy.physics.vector import ReferenceFrame\n",
    ">R = ReferenceFrame('R')\n",
    ">v = 3*R.x + 4*R.y + 5*R.z\n",
    ">```\n",
    ">Vector math and basic calculus operations with respect to vectors have already been elaborated upon in other >sections of this module’s documentation.\n",
    "\n",
    "\n",
    ">On the other hand, base scalars (or coordinate variables) are implemented as special SymPy Symbol s assigned to >every frame, one for each direction from 𝑋, 𝑌 and 𝑍. For a frame R, the 𝑋, 𝑌 and 𝑍 base scalar Symbol s can be >accessed using the R[0], R[1] and R[2] expressions respectively.\n",
    "\n",
    ">Therefore, to generate the expression for the aforementioned electric potential field 2𝑥2𝑦, you would have to do\n",
    "\n",
    ">```\n",
    ">from sympy.physics.vector import ReferenceFrame\n",
    ">R = ReferenceFrame('R')\n",
    ">electric_potential = 2*R[0]**2*R[1]\n",
    ">electric_potential\n",
    ">2*R_x**2*R_y\n",
    ">```"
   ]
  },
  {
   "cell_type": "markdown",
   "metadata": {},
   "source": [
    "## Now to do our example"
   ]
  },
  {
   "cell_type": "markdown",
   "metadata": {},
   "source": []
  }
 ],
 "metadata": {
  "kernelspec": {
   "display_name": "Python 3",
   "language": "python",
   "name": "python3"
  },
  "language_info": {
   "codemirror_mode": {
    "name": "ipython",
    "version": 3
   },
   "file_extension": ".py",
   "mimetype": "text/x-python",
   "name": "python",
   "nbconvert_exporter": "python",
   "pygments_lexer": "ipython3",
   "version": "3.7.3"
  }
 },
 "nbformat": 4,
 "nbformat_minor": 2
}
